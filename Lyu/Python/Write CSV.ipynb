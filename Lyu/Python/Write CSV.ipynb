{
 "cells": [
  {
   "cell_type": "code",
   "execution_count": 4,
   "metadata": {},
   "outputs": [],
   "source": [
    "dic = {\"John\": \"john@example.com\", \"Mary\": \"mary@example.com\"} #dictionary\n",
    "\n",
    "download_dir = \"Routes50.csv\" #where you want the file to be downloaded to \n",
    "\n",
    "csv = open(download_dir, \"w\") \n",
    "#\"w\" indicates that you're writing strings to the file\n",
    "\n",
    "columnTitleRow = \"TruckID, Routes\\n\"\n",
    "csv.write(columnTitleRow)\n",
    "\n",
    "for key in dic.keys():\n",
    "    name = key\n",
    "    email = dic[key]\n",
    "    row = name + \",\" + email + \"\\n\"\n",
    "    csv.write(row)"
   ]
  },
  {
   "cell_type": "code",
   "execution_count": null,
   "metadata": {},
   "outputs": [],
   "source": []
  }
 ],
 "metadata": {
  "kernelspec": {
   "display_name": "Python 3",
   "language": "python",
   "name": "python3"
  },
  "language_info": {
   "codemirror_mode": {
    "name": "ipython",
    "version": 3
   },
   "file_extension": ".py",
   "mimetype": "text/x-python",
   "name": "python",
   "nbconvert_exporter": "python",
   "pygments_lexer": "ipython3",
   "version": "3.6.5"
  }
 },
 "nbformat": 4,
 "nbformat_minor": 2
}
