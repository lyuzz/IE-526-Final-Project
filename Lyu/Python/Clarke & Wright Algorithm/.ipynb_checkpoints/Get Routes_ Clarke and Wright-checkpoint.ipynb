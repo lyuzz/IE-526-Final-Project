{
 "cells": [
  {
   "cell_type": "markdown",
   "metadata": {},
   "source": [
    "# Input Data"
   ]
  },
  {
   "cell_type": "code",
   "execution_count": 685,
   "metadata": {},
   "outputs": [],
   "source": [
    "import pandas as pd\n",
    "data = pd.read_excel('../../Materials/input_node.xlsx')\n",
    "dist_and_time = pd.read_csv('../../Materials/input_distance-time.txt')\n",
    "\n",
    "# The capacity of truck\n",
    "max_weit = 2.5\n",
    "max_volu = 16\n",
    "max_driv = 200000\n",
    "max_time = 720"
   ]
  },
  {
   "cell_type": "code",
   "execution_count": 746,
   "metadata": {},
   "outputs": [],
   "source": [
    "# get the distance from i to j\n",
    "def getDist (fromNode,toNode):\n",
    "    dist = dist_and_time[(dist_and_time.from_node == fromNode) & (dist_and_time.to_node == toNode)]\n",
    "    return int(dist.distance)\n",
    "\n",
    "# get the traval time from i to j\n",
    "def getTime (fromNode,toNode):\n",
    "    dist = dist_and_time[(dist_and_time.from_node == fromNode) & (dist_and_time.to_node == toNode)]\n",
    "    return int(dist.spend_tm)\n",
    "\n",
    "# get weight of node i\n",
    "def getWeit (i):\n",
    "    if i in range(1,1001):             # check if i is allowed\n",
    "        row = data[data.ID == i]\n",
    "        return float(row.pack_total_weight)\n",
    "    else:                            # if i is not allowed     \n",
    "        print('input of weight is illegal')\n",
    "        \n",
    "# get volume of node i\n",
    "def getVolu (i):\n",
    "    if i in range(1,1001):\n",
    "        row = data[data.ID == i]\n",
    "        return float(row.pack_total_volume)\n",
    "    else: \n",
    "        print('input of volume is illegal')\n",
    "        \n",
    "def validity (route):\n",
    "    weight = 0\n",
    "    volume = 0\n",
    "    distance = 0\n",
    "    time = 0\n",
    "    fromNode = 0\n",
    "    \n",
    "    for node in route:\n",
    "        weight = weight + getWeit(node)\n",
    "        volume = volume + getVolu(node)\n",
    "        distance = distance + getDist(fromNode,node)\n",
    "        time = time + getTime(fromNode,node)\n",
    "        fromNode = node\n",
    "    \n",
    "    distance = distance + getDist(fromNode,0)\n",
    "    time = time + getTime(fromNode,0)\n",
    "    print(distance)\n",
    "    \n",
    "    if weight <= max_weit and volume <= max_volu and time <= max_time and distance <= max_driv:\n",
    "        return 1\n",
    "    else:\n",
    "        return 0"
   ]
  },
  {
   "cell_type": "markdown",
   "metadata": {},
   "source": [
    "# Get the routes"
   ]
  },
  {
   "cell_type": "code",
   "execution_count": 737,
   "metadata": {},
   "outputs": [],
   "source": [
    "custID= [185,888,423,360,660,662,137,322,631,689,559,550,582,606,943,901,121,763,972,303,247\n",
    "       ,17,140,101,255,851,645,977,601,810,406,400,182,484,276,359,947,215,616,221,299,833\n",
    "       ,184,604,443,283,51,109,331,842]\n",
    "custID.sort()\n",
    "\n",
    "routes = []\n",
    "for i in custID:\n",
    "    routes.append([i])"
   ]
  },
  {
   "cell_type": "code",
   "execution_count": 738,
   "metadata": {},
   "outputs": [],
   "source": [
    "sij = []\n",
    "for i in custID:\n",
    "    for j in custID:\n",
    "        if i != j:\n",
    "            x = [(getDist(i,0) + getDist(0,j) - getDist(i,j)),i,j]\n",
    "            sij.append(x)\n",
    "sij.sort(reverse = True)"
   ]
  },
  {
   "cell_type": "code",
   "execution_count": 740,
   "metadata": {},
   "outputs": [],
   "source": [
    "for item in sij:  \n",
    "    if item != []:\n",
    "        flag = item[1]\n",
    "        flag2 = item[2]\n",
    "        \n",
    "        for subroute in routes:\n",
    "            if subroute[len(subroute)-1] == flag :\n",
    "                subroute.append(flag2)\n",
    "                \n",
    "                if validity(subroute) == 0:\n",
    "                    subroute.remove(flag2)\n",
    "                else:\n",
    "                    routes.remove([flag2])\n",
    "                    # clear sij because some node can not be used any more\n",
    "                    for element in sij:   \n",
    "                        if (element != []) and ((element[1] == flag) or (element[2] == flag) or (element[2] == flag2)):\n",
    "                            element.clear()\n",
    "                    break"
   ]
  },
  {
   "cell_type": "code",
   "execution_count": 747,
   "metadata": {},
   "outputs": [
    {
     "name": "stdout",
     "output_type": "stream",
     "text": [
      "[[221, 182, 604, 283], [331, 322, 137, 972, 109, 184, 977], [359, 51, 185, 833, 851], [559, 140, 601, 17, 423], [631, 443, 215, 303, 582, 660, 662, 247], [645, 616], [810, 276, 763, 947], [888, 121, 901, 299, 406, 842, 484, 255, 550], [943, 360, 606, 101, 400, 689]]\n"
     ]
    }
   ],
   "source": [
    "print(routes)"
   ]
  },
  {
   "cell_type": "markdown",
   "metadata": {},
   "source": [
    "# Caculate the total cost"
   ]
  },
  {
   "cell_type": "code",
   "execution_count": 756,
   "metadata": {},
   "outputs": [
    {
     "name": "stdout",
     "output_type": "stream",
     "text": [
      "94068\n",
      "165276\n",
      "188598\n",
      "106766\n",
      "176900\n",
      "25048\n",
      "55854\n",
      "191114\n",
      "89777\n"
     ]
    }
   ],
   "source": [
    "for i in routes:\n",
    "    distance = distance + validity(i)"
   ]
  },
  {
   "cell_type": "code",
   "execution_count": 757,
   "metadata": {},
   "outputs": [],
   "source": [
    "distance = 94068+165276+188598+106766+176900+25048+55854+191114+89777"
   ]
  },
  {
   "cell_type": "code",
   "execution_count": 758,
   "metadata": {},
   "outputs": [],
   "source": [
    "fixCost = 9 * 300\n",
    "distanceCost = distance * 14 /1000"
   ]
  },
  {
   "cell_type": "code",
   "execution_count": 759,
   "metadata": {},
   "outputs": [],
   "source": [
    "TotalCost = fixCost + distanceCost"
   ]
  },
  {
   "cell_type": "code",
   "execution_count": 760,
   "metadata": {},
   "outputs": [
    {
     "data": {
      "text/plain": [
       "18007.614"
      ]
     },
     "execution_count": 760,
     "metadata": {},
     "output_type": "execute_result"
    }
   ],
   "source": [
    "TotalCost"
   ]
  },
  {
   "cell_type": "code",
   "execution_count": null,
   "metadata": {},
   "outputs": [],
   "source": []
  }
 ],
 "metadata": {
  "kernelspec": {
   "display_name": "Python 3",
   "language": "python",
   "name": "python3"
  },
  "language_info": {
   "codemirror_mode": {
    "name": "ipython",
    "version": 3
   },
   "file_extension": ".py",
   "mimetype": "text/x-python",
   "name": "python",
   "nbconvert_exporter": "python",
   "pygments_lexer": "ipython3",
   "version": "3.6.5"
  }
 },
 "nbformat": 4,
 "nbformat_minor": 2
}
