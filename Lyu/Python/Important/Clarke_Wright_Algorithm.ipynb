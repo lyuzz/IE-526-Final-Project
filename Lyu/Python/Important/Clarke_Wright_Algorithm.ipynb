{
 "cells": [
  {
   "cell_type": "code",
   "execution_count": 1,
   "metadata": {},
   "outputs": [],
   "source": [
    "import myFunction as mf\n",
    "import datetime"
   ]
  },
  {
   "cell_type": "code",
   "execution_count": 2,
   "metadata": {},
   "outputs": [],
   "source": [
    "def Algo_C_W(customerID):\n",
    "    timeBegin = datetime.datetime.now()\n",
    "    \n",
    "    custID = customerID[:]\n",
    "    custID.sort()\n",
    "    routes = []\n",
    "    \n",
    "    for i in custID:\n",
    "        routes.append([i])\n",
    "\n",
    "    sij = []\n",
    "    for i in custID:\n",
    "        for j in custID:\n",
    "            if i != j:\n",
    "                x = [(mf.distance(i,0) + mf.distance(0,j) - mf.distance(i,j)),i,j]\n",
    "                sij.append(x)\n",
    "    sij.sort(reverse = True)\n",
    "\n",
    "    for item in sij:  \n",
    "        if item != []:\n",
    "            flag = item[1]\n",
    "            flag2 = item[2]\n",
    "\n",
    "            for subroute in routes:\n",
    "                if subroute[len(subroute)-1] == flag :\n",
    "                    subroute.append(flag2)\n",
    "\n",
    "                    if mf.isFeasible(subroute) == 0:\n",
    "                        subroute.remove(flag2)\n",
    "                    else:\n",
    "                        routes.remove([flag2])\n",
    "                        # clear sij because some node can not be used any more\n",
    "                        for element in sij:   \n",
    "                            if (element != []) and ((element[1] == flag) or (element[2] == flag) or (element[2] == flag2)):\n",
    "                                element.clear()\n",
    "                        break\n",
    "                        \n",
    "    timeFinish = datetime.datetime.now()\n",
    "    time = timeFinish - timeBegin\n",
    "    print(\"Run time:\",time) \n",
    "    return routes"
   ]
  },
  {
   "cell_type": "code",
   "execution_count": null,
   "metadata": {},
   "outputs": [],
   "source": []
  }
 ],
 "metadata": {
  "kernelspec": {
   "display_name": "Python 3",
   "language": "python",
   "name": "python3"
  },
  "language_info": {
   "codemirror_mode": {
    "name": "ipython",
    "version": 3
   },
   "file_extension": ".py",
   "mimetype": "text/x-python",
   "name": "python",
   "nbconvert_exporter": "python",
   "pygments_lexer": "ipython3",
   "version": "3.6.5"
  }
 },
 "nbformat": 4,
 "nbformat_minor": 2
}
