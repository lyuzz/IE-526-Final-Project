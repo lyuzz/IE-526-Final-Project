{
 "cells": [
  {
   "cell_type": "code",
   "execution_count": 1,
   "metadata": {},
   "outputs": [],
   "source": [
    "import myFunction as mf\n",
    "import datetime"
   ]
  },
  {
   "cell_type": "code",
   "execution_count": 2,
   "metadata": {},
   "outputs": [],
   "source": [
    "def getRoute_LD(customerID):\n",
    "    # Initialization\n",
    "    custID = customerID[:] # make a copy of customerID\n",
    "    nbCustomer = len (customerID)\n",
    "    route = []\n",
    "    starNode = 0\n",
    "    toNode = 1\n",
    "\n",
    "    # get a route by the least distance\n",
    "    for attemp in range(1,nbCustomer + 1):\n",
    "        Dist = mf.distance(starNode,custID[0])\n",
    "\n",
    "        for node in custID:\n",
    "            if (node != starNode):\n",
    "                if mf.distance(starNode,node) <= Dist:\n",
    "                    toNode = node \n",
    "                    Dist = mf.distance(starNode,node)\n",
    "\n",
    "        custID.remove(toNode)\n",
    "        route.append(toNode)\n",
    "        starNode = toNode\n",
    "        print(\"Attemp:\",attemp,\"/\",nbCustomer)\n",
    "        \n",
    "    # print('The final routes are:\\n',route,\"\\n\")\n",
    "    return route"
   ]
  },
  {
   "cell_type": "code",
   "execution_count": 3,
   "metadata": {},
   "outputs": [],
   "source": [
    "def cut(route):\n",
    "    routes = []\n",
    "    fromNode = 0\n",
    "    weight = 0\n",
    "    volume = 0\n",
    "    distance = 0\n",
    "    time = 0\n",
    "    routePlan = [0]\n",
    "    truck = 1\n",
    "    travelCost = 0\n",
    "    timeExceed = 0\n",
    "\n",
    "    for nextNode in route:\n",
    "        # If next customer could fit.\n",
    "        if ((weight+mf.weight(nextNode)<=mf.max_weit)&(volume+mf.volume(nextNode)<=mf.max_volu)&(distance+mf.distance(fromNode,nextNode)+mf.distance(nextNode,0)<=mf.max_driv)&(time<=mf.max_time+mf.time(fromNode,nextNode)+mf.time(nextNode,0))):\n",
    "            routePlan.append(nextNode)\n",
    "            distance = distance + mf.distance(fromNode,nextNode)\n",
    "            time = time + mf.time(fromNode,nextNode)\n",
    "            weight = weight + mf.weight(nextNode)\n",
    "            volume = volume + mf.volume(nextNode)\n",
    "            fromNode = nextNode  \n",
    "\n",
    "        # If next customer doesn't fit, let truck go back.\n",
    "        else:\n",
    "            routePlan.append(0)\n",
    "            time = time + mf.time(fromNode,0)\n",
    "            distance = distance + mf.distance(fromNode,0)\n",
    "            travelCost = travelCost + distance * 14 /1000\n",
    "            routes.append(routePlan)\n",
    "            \n",
    "            # Print the route of this truck.\n",
    "            print(\"The route of truck\",truck,\"is\",routePlan)\n",
    "            # print(weight,volume,time,distance)\n",
    "\n",
    "            # Reset all of the capacity and make assignment for next truck.\n",
    "            truck = truck + 1\n",
    "            weight = 0\n",
    "            volume = 0\n",
    "            distance = 0\n",
    "            time = 0\n",
    "            routePlan = [0]\n",
    "            fromNode = 0\n",
    "\n",
    "            # If this node could fit in a new truck?\n",
    "            if ((weight<=mf.max_weit)&(volume<=mf.max_volu)&(distance+mf.distance(fromNode,nextNode)+mf.distance(nextNode,0)<=mf.max_driv)&(time<=mf.max_time+mf.time(fromNode,nextNode)+mf.time(nextNode,0))): \n",
    "                distance = distance + mf.distance(fromNode,nextNode)\n",
    "                time = time + mf.time(fromNode,nextNode)\n",
    "                weight = weight + mf.weight(nextNode)\n",
    "                volume = volume + mf.volume(nextNode)\n",
    "                routePlan.append(nextNode)\n",
    "                fromNode = nextNode\n",
    "\n",
    "            else:\n",
    "                print(\"Error! This is no feasible solution because node\",nextnode,\"can't fit in a new truck\")\n",
    "                break\n",
    "\n",
    "    # The last loop is completed and let this truck go home.\n",
    "    routePlan.append(0)\n",
    "    time = time + mf.time(fromNode,0)\n",
    "    distance = distance + mf.distance(fromNode,0)\n",
    "\n",
    "    # caculate the cost\n",
    "    travelCost = travelCost + distance * 14 /1000\n",
    "    fixCost = truck * 300\n",
    "\n",
    "    # print the result\n",
    "    print(\"The route of truck\",truck,\"is\",routePlan)\n",
    "    routes.append(routePlan)\n",
    "    # print(weight,volume,time,distance)\n",
    "    print(\"Completed!\")\n",
    "    return routes"
   ]
  },
  {
   "cell_type": "code",
   "execution_count": 4,
   "metadata": {},
   "outputs": [],
   "source": [
    "def Algo_LD(customerID):\n",
    "    timeBegin = datetime.datetime.now()\n",
    "    route = getRoute_LD(customerID)\n",
    "    routes = cut(route)\n",
    "    timeFinish = datetime.datetime.now()\n",
    "    time = timeFinish - timeBegin\n",
    "    print(\"Run time:\",time)   \n",
    "    return routes"
   ]
  },
  {
   "cell_type": "markdown",
   "metadata": {},
   "source": [
    "# Test"
   ]
  },
  {
   "cell_type": "code",
   "execution_count": 213,
   "metadata": {},
   "outputs": [],
   "source": [
    "#customerID= [185,888,423,360,660,662,137,322,631,689,559,550,582,606,943,901,121,763,972,303\n",
    "#,247,17,140,101,255,851,645,977,601,810,406,400,182,484,276,359,947,215,616,221,299,833,184,604,\n",
    "#443,283,51,109,331,842]\n",
    "Algo_LD(customerID)"
   ]
  },
  {
   "cell_type": "code",
   "execution_count": null,
   "metadata": {},
   "outputs": [],
   "source": []
  }
 ],
 "metadata": {
  "kernelspec": {
   "display_name": "Python 3",
   "language": "python",
   "name": "python3"
  },
  "language_info": {
   "codemirror_mode": {
    "name": "ipython",
    "version": 3
   },
   "file_extension": ".py",
   "mimetype": "text/x-python",
   "name": "python",
   "nbconvert_exporter": "python",
   "pygments_lexer": "ipython3",
   "version": "3.6.5"
  }
 },
 "nbformat": 4,
 "nbformat_minor": 2
}
