{
 "cells": [
  {
   "cell_type": "code",
   "execution_count": 23,
   "metadata": {},
   "outputs": [],
   "source": [
    "import pandas as pd\n",
    "import random\n",
    "import numpy as np\n",
    "from datetime import datetime\n",
    "data = pd.read_excel('../../Materials/input_node.xlsx')\n",
    "dist_and_time = pd.read_csv('../../Materials/input_distance-time.txt')"
   ]
  },
  {
   "cell_type": "code",
   "execution_count": 4,
   "metadata": {},
   "outputs": [],
   "source": [
    "# The capacity of truck\n",
    "max_weight = 2.5\n",
    "max_volume = 16\n",
    "max_drive = 200000\n",
    "max_time = 720\n",
    "cost_distance = 14\n",
    "cost_vehicle = 300\n",
    "cost_wait = 24"
   ]
  },
  {
   "cell_type": "code",
   "execution_count": 5,
   "metadata": {},
   "outputs": [],
   "source": [
    "# get the distance from i to j\n",
    "def distance (fromNode,toNode):\n",
    "    if fromNode == toNode:\n",
    "        print(\"Illegal (distance): i = j.\")\n",
    "    else:\n",
    "        dist = dist_and_time[(dist_and_time.from_node == fromNode) & (dist_and_time.to_node == toNode)]\n",
    "        return int(dist.distance)\n",
    "\n",
    "# get the traval time from i to j\n",
    "def time (fromNode,toNode):\n",
    "    if fromNode == toNode:\n",
    "        print(\"Illegal (time): i = j.\")\n",
    "    else:\n",
    "        dist = dist_and_time[(dist_and_time.from_node == fromNode) & (dist_and_time.to_node == toNode)]\n",
    "        return int(dist.spend_tm)\n",
    "\n",
    "# get weight of node i\n",
    "def weight (i):\n",
    "    if i in range(1,1001):             # check if i is allowed\n",
    "        row = data[data.ID == i]\n",
    "        return float(row.pack_total_weight)\n",
    "    else:                            # if i is not allowed     \n",
    "        print(\"Illegal (weight): Customer ID should be between 1 to 1000.\")\n",
    "        \n",
    "# get volume of node i\n",
    "def volume (i):\n",
    "    if i in range(1,1001):\n",
    "        row = data[data.ID == i]\n",
    "        return float(row.pack_total_volume)\n",
    "    else: \n",
    "        print(\"Illegal (volume): Customer ID should be between 1 to 1000.\")"
   ]
  },
  {
   "cell_type": "code",
   "execution_count": 51,
   "metadata": {},
   "outputs": [],
   "source": [
    "def generateInd(indSize):\n",
    "    ind = random.sample(range(1, indSize+1), indSize)\n",
    "    return ind"
   ]
  },
  {
   "cell_type": "code",
   "execution_count": 6,
   "metadata": {},
   "outputs": [],
   "source": [
    "def generatePop(indSize,popSize):\n",
    "    pop = []\n",
    "    for i in range(0, popSize):\n",
    "        pop.append(random.sample(range(1, indSize+1), indSize))\n",
    "    return pop"
   ]
  },
  {
   "cell_type": "code",
   "execution_count": 7,
   "metadata": {},
   "outputs": [],
   "source": [
    "def ind2routes(ind):\n",
    "    route = []\n",
    "    routes = []\n",
    "    fromNode = 0\n",
    "    weig = 0\n",
    "    volu = 0\n",
    "    dist = 0\n",
    "    Time = 0\n",
    "\n",
    "    for nextNode in ind:\n",
    "        # If next customer could fit.\n",
    "        if ((weig+weight(nextNode) <= max_weight)&\n",
    "            (volu+volume(nextNode) <= max_volume)&\n",
    "            (dist+distance(fromNode,nextNode)+distance(nextNode,0) <= max_drive)&\n",
    "            (Time+time(fromNode,nextNode)+time(nextNode,0) <= max_time)):\n",
    "            \n",
    "            route.append(nextNode)\n",
    "            weig = weig + weight(nextNode)\n",
    "            volu = volu + volume(nextNode)\n",
    "            dist = dist + distance(fromNode,nextNode)\n",
    "            Time = Time + time(fromNode,nextNode)\n",
    "            fromNode = nextNode\n",
    "            \n",
    "        # If next customer doesn't fit, let truck go back.\n",
    "        else:\n",
    "            routes.append(route)\n",
    "            # Reset all of the capacity and make assignment for next truck.\n",
    "            route = []\n",
    "            weig = 0\n",
    "            volu = 0\n",
    "            dist = 0\n",
    "            Time = 0\n",
    "            fromNode = 0\n",
    "            # If this node could fit in a new truck?\n",
    "            if ((weight(nextNode) <= max_weight)&\n",
    "                (volume(nextNode) <= max_volume)&\n",
    "                (distance(fromNode,nextNode)+distance(nextNode,0) <= max_drive)&\n",
    "                (time(fromNode,nextNode)+time(nextNode,0) <= max_time)): \n",
    "                \n",
    "                dist = dist + distance(fromNode,nextNode)\n",
    "                Time = Time + time(fromNode,nextNode)\n",
    "                weig = weig + weight(nextNode)\n",
    "                volu = volu + volume(nextNode)\n",
    "                route.append(nextNode)\n",
    "                fromNode = nextNode\n",
    "\n",
    "            else:\n",
    "                print(\"Error! There is no feasible solution because node\",nextNode,\"can't fit in a new truck\")\n",
    "                break\n",
    "                \n",
    "    routes.append(route) \n",
    "    return routes"
   ]
  },
  {
   "cell_type": "code",
   "execution_count": 27,
   "metadata": {},
   "outputs": [],
   "source": [
    "def fitnessInd(ind):\n",
    "    routes = ind2routes(ind)\n",
    "    cost = 0\n",
    "    for route in routes:\n",
    "        weig = 0\n",
    "        volu = 0\n",
    "        dist = 0\n",
    "        Time = 0\n",
    "        fromNode = 0\n",
    "        flag = 0\n",
    "\n",
    "        for node in route:\n",
    "            weig = weig + weight(node)\n",
    "            volu = volu + volume(node)\n",
    "            dist = dist + distance(fromNode,node)\n",
    "            Time = Time + time(fromNode,node)\n",
    "            fromNode = node\n",
    "\n",
    "        dist = dist + distance(fromNode,0)\n",
    "        Time = Time + time(fromNode,0)\n",
    "\n",
    "        if weig > max_weight or volu > max_volume or Time > max_time or dist > max_drive:\n",
    "            print(\"Route\",route,\"is not feasible!\")\n",
    "            print(\"Weight,volume,time,distance:\\n\",Tweight,Tvolume,Ttime,Tdistance)\n",
    "            flag = flag + 1\n",
    "        else:\n",
    "            cost = cost + (dist * 14 / 1000) + 300\n",
    "    if flag == 0:\n",
    "        return 1/cost"
   ]
  },
  {
   "cell_type": "code",
   "execution_count": 44,
   "metadata": {},
   "outputs": [],
   "source": [
    "def selection(pop):\n",
    "    fitness = []\n",
    "    bestFit = 0\n",
    "    bestInd = 0\n",
    "    # get fits of all inds\n",
    "    for ind in pop:\n",
    "        fit = 1/costInd(ind)\n",
    "        # add the fitness\n",
    "        fitness.append(fit)\n",
    "        # get best ind\n",
    "        if fit >= bestFit:\n",
    "            bestFit = fit\n",
    "            bestInd = ind\n",
    "    # print the infos about fits\n",
    "    print('max',max(fitness))\n",
    "    print('min',min(fitness))\n",
    "    print('mean',np.mean(fitness))\n",
    "    print(\"cost of best solution\",1/max(fitness))\n",
    "    print(\"cost of worst solution\",1/min(fitness))\n",
    "    # caculate the total fit\n",
    "    totalFit = sum(fitness)\n",
    "    # caculate pdf of every fit\n",
    "    pdf = []\n",
    "    for item in fitness:\n",
    "        pdf.append(item/totalFit)\n",
    "    # caculate cumulative distribution function(cdf) \n",
    "    Q = 0\n",
    "    cdf = []\n",
    "    for item in pdf:\n",
    "        Q = Q + item\n",
    "        cdf.append(Q)\n",
    "    # generate the new population\n",
    "    newPop = []\n",
    "    lenPop = len(pop)\n",
    "    for i in range(0,lenPop):\n",
    "        x = random.uniform(0, 1)\n",
    "        for j in range(0,lenPop):\n",
    "            if x < cdf[j]:\n",
    "                newPop.append(pop[j])\n",
    "                break\n",
    "    return newPop"
   ]
  },
  {
   "cell_type": "code",
   "execution_count": 11,
   "metadata": {},
   "outputs": [],
   "source": [
    "def crossover(pop,cxPb):\n",
    "    # choose individuals for crossover\n",
    "    pickUp = []\n",
    "    for ind in pop:\n",
    "        if random.uniform(0, 1) < cxPb:\n",
    "            pickUp.append(ind)\n",
    "            pop.remove(ind)\n",
    "    # randomly generate a cut point  \n",
    "    length = len(pop[0])\n",
    "    cutPoint = random.randint(0,length)\n",
    "    # cut the individuals picked up to heads and tails\n",
    "    heads = []\n",
    "    tails = []\n",
    "    for ind in pickUp:\n",
    "        heads.append(ind[:cutPoint])\n",
    "        tails.append(ind[cutPoint:])\n",
    "    # merge the heads and tails\n",
    "    for i in range(0,len(heads)-1):\n",
    "        pop.append(heads[i]+tails[i+1])\n",
    "    if heads != []:\n",
    "        pop.append(heads[len(heads)-1]+tails[0])\n",
    "    return pop"
   ]
  },
  {
   "cell_type": "code",
   "execution_count": 12,
   "metadata": {},
   "outputs": [],
   "source": [
    "def mutation(pop,mutPb):\n",
    "    nbGenes = len(pop)*len(pop[0])\n",
    "    for i in range (0,int(nbGenes*mutPb)):\n",
    "        # get a random number\n",
    "        x = random.randint(0,nbGenes-1)\n",
    "        # get the order of individual\n",
    "        ind = int(x / len(pop[0]))\n",
    "        # get the order of gene\n",
    "        gene = x % len(pop[0])\n",
    "        # change into list for mutation\n",
    "        pop[ind] = list(pop[ind])\n",
    "        # conver 1 to 0 or 0 to 1\n",
    "        pop[ind][gene] = str(1 - int(pop[ind][gene]))\n",
    "        # convert to string again\n",
    "        pop[ind] = \"\".join(pop[ind])\n",
    "    return pop"
   ]
  },
  {
   "cell_type": "code",
   "execution_count": null,
   "metadata": {},
   "outputs": [],
   "source": []
  },
  {
   "cell_type": "code",
   "execution_count": 55,
   "metadata": {},
   "outputs": [],
   "source": [
    "pop = generatePop(indSize = 50, popSize = 5)"
   ]
  },
  {
   "cell_type": "code",
   "execution_count": 56,
   "metadata": {},
   "outputs": [
    {
     "name": "stdout",
     "output_type": "stream",
     "text": [
      "[35, 43, 11, 36, 20, 27, 41, 34, 23, 12, 39, 37, 15, 44, 4, 13, 1, 6, 49, 32, 47, 45, 10, 30, 2, 5, 38, 19, 42, 33, 29, 16, 24, 18, 14, 17, 48, 22, 26, 7, 31, 46, 50, 3, 40, 28, 8, 21, 9, 25]\n"
     ]
    }
   ],
   "source": [
    "ind = pop[0]\n",
    "print(ind)"
   ]
  },
  {
   "cell_type": "code",
   "execution_count": 60,
   "metadata": {},
   "outputs": [
    {
     "data": {
      "text/plain": [
       "[[35, 43, 11, 36],\n",
       " [20, 27, 41, 34],\n",
       " [23, 12, 39, 37],\n",
       " [15, 44, 4],\n",
       " [13, 1, 6, 49, 32, 47],\n",
       " [45, 10, 30, 2, 5, 38],\n",
       " [19, 42, 33, 29],\n",
       " [16, 24, 18, 14, 17],\n",
       " [48, 22],\n",
       " [26, 7, 31],\n",
       " [46, 50, 3, 40, 28, 8],\n",
       " [21, 9, 25]]"
      ]
     },
     "execution_count": 60,
     "metadata": {},
     "output_type": "execute_result"
    }
   ],
   "source": [
    "ind2routes(ind)"
   ]
  },
  {
   "cell_type": "code",
   "execution_count": null,
   "metadata": {},
   "outputs": [],
   "source": []
  }
 ],
 "metadata": {
  "kernelspec": {
   "display_name": "Python 3",
   "language": "python",
   "name": "python3"
  },
  "language_info": {
   "codemirror_mode": {
    "name": "ipython",
    "version": 3
   },
   "file_extension": ".py",
   "mimetype": "text/x-python",
   "name": "python",
   "nbconvert_exporter": "python",
   "pygments_lexer": "ipython3",
   "version": "3.6.5"
  }
 },
 "nbformat": 4,
 "nbformat_minor": 2
}
