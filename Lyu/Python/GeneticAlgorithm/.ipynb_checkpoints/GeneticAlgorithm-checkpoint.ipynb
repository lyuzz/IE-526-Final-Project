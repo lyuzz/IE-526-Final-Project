{
 "cells": [
  {
   "cell_type": "code",
   "execution_count": 5,
   "metadata": {},
   "outputs": [],
   "source": [
    "import random\n",
    "import "
   ]
  },
  {
   "cell_type": "code",
   "execution_count": 6,
   "metadata": {},
   "outputs": [],
   "source": [
    "def getdna(num_dnas,num_operations):\n",
    "    dna=[]\n",
    "    length=3*num_operations\n",
    "    for i in range(num_dnas):\n",
    "        temp=[]\n",
    "        for j in range(length):\n",
    "            temp.append(int(random.choice([True, False])))\n",
    "        dna.append(temp)\n",
    "        del temp\n",
    "    return dna"
   ]
  },
  {
   "cell_type": "code",
   "execution_count": 24,
   "metadata": {},
   "outputs": [
    {
     "data": {
      "text/plain": [
       "[[0, 1, 0, 0, 1, 0, 1, 1, 0, 0, 1, 0, 1, 1, 0],\n",
       " [1, 0, 1, 1, 0, 0, 0, 1, 0, 1, 1, 1, 0, 1, 1],\n",
       " [0, 1, 0, 0, 1, 0, 0, 0, 1, 0, 1, 0, 0, 1, 1],\n",
       " [0, 0, 1, 0, 1, 1, 0, 1, 1, 0, 0, 0, 1, 0, 1],\n",
       " [0, 1, 1, 1, 1, 1, 1, 1, 1, 0, 0, 1, 1, 1, 0],\n",
       " [1, 1, 0, 1, 0, 0, 0, 0, 1, 0, 0, 0, 0, 1, 1],\n",
       " [1, 1, 1, 0, 0, 0, 0, 1, 0, 1, 1, 0, 0, 0, 0],\n",
       " [1, 1, 1, 0, 0, 0, 1, 1, 0, 0, 1, 1, 0, 0, 1],\n",
       " [0, 1, 0, 1, 0, 1, 1, 0, 0, 1, 0, 1, 1, 0, 1],\n",
       " [0, 0, 1, 1, 1, 0, 0, 1, 1, 0, 1, 1, 0, 1, 1]]"
      ]
     },
     "execution_count": 24,
     "metadata": {},
     "output_type": "execute_result"
    }
   ],
   "source": [
    "dnas=getdna(10,5)\n",
    "dnas"
   ]
  },
  {
   "cell_type": "code",
   "execution_count": null,
   "metadata": {},
   "outputs": [],
   "source": [
    "def fitness(dna):\n",
    "    for\n",
    "    fitness="
   ]
  },
  {
   "cell_type": "code",
   "execution_count": 25,
   "metadata": {},
   "outputs": [],
   "source": [
    "def evaluation(dnas):\n",
    "    fitness=[]\n",
    "    for dna in dnas:\n",
    "        fitness.append()\n",
    "    return fitness"
   ]
  },
  {
   "cell_type": "code",
   "execution_count": 26,
   "metadata": {},
   "outputs": [],
   "source": [
    "fit=evaluation(dnas)"
   ]
  },
  {
   "cell_type": "code",
   "execution_count": 27,
   "metadata": {},
   "outputs": [
    {
     "data": {
      "text/plain": [
       "[7, 9, 6, 7, 11, 6, 6, 8, 8, 9]"
      ]
     },
     "execution_count": 27,
     "metadata": {},
     "output_type": "execute_result"
    }
   ],
   "source": [
    "fit"
   ]
  },
  {
   "cell_type": "code",
   "execution_count": null,
   "metadata": {},
   "outputs": [],
   "source": []
  }
 ],
 "metadata": {
  "kernelspec": {
   "display_name": "Python 3",
   "language": "python",
   "name": "python3"
  },
  "language_info": {
   "codemirror_mode": {
    "name": "ipython",
    "version": 3
   },
   "file_extension": ".py",
   "mimetype": "text/x-python",
   "name": "python",
   "nbconvert_exporter": "python",
   "pygments_lexer": "ipython3",
   "version": "3.6.5"
  }
 },
 "nbformat": 4,
 "nbformat_minor": 2
}
