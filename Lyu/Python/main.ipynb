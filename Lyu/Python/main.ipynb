{
 "cells": [
  {
   "cell_type": "code",
   "execution_count": 1,
   "metadata": {},
   "outputs": [],
   "source": [
    "import Least_Distance_Algorithm as LD\n",
    "import Clarke_Wright_Algorithm as CW"
   ]
  },
  {
   "cell_type": "code",
   "execution_count": 2,
   "metadata": {},
   "outputs": [],
   "source": [
    "customerID= [185,888,423,360,660,662,137,322,631,689,559,550,582,606,943,901,121,763,972,303\n",
    ",247,17,140,101,255,851,645,977,601,810,406,400,182,484,276,359,947,215,616,221,299,833,184,604,\n",
    "443,283,51,109,331,842]"
   ]
  },
  {
   "cell_type": "code",
   "execution_count": 3,
   "metadata": {},
   "outputs": [
    {
     "name": "stdout",
     "output_type": "stream",
     "text": [
      "Attemp: 1 / 50\n",
      "Attemp: 2 / 50\n",
      "Attemp: 3 / 50\n",
      "Attemp: 4 / 50\n",
      "Attemp: 5 / 50\n",
      "Attemp: 6 / 50\n",
      "Attemp: 7 / 50\n",
      "Attemp: 8 / 50\n",
      "Attemp: 9 / 50\n",
      "Attemp: 10 / 50\n",
      "Attemp: 11 / 50\n",
      "Attemp: 12 / 50\n",
      "Attemp: 13 / 50\n",
      "Attemp: 14 / 50\n",
      "Attemp: 15 / 50\n",
      "Attemp: 16 / 50\n",
      "Attemp: 17 / 50\n",
      "Attemp: 18 / 50\n",
      "Attemp: 19 / 50\n",
      "Attemp: 20 / 50\n",
      "Attemp: 21 / 50\n",
      "Attemp: 22 / 50\n",
      "Attemp: 23 / 50\n",
      "Attemp: 24 / 50\n",
      "Attemp: 25 / 50\n",
      "Attemp: 26 / 50\n",
      "Attemp: 27 / 50\n",
      "Attemp: 28 / 50\n",
      "Attemp: 29 / 50\n",
      "Attemp: 30 / 50\n",
      "Attemp: 31 / 50\n",
      "Attemp: 32 / 50\n",
      "Attemp: 33 / 50\n",
      "Attemp: 34 / 50\n",
      "Attemp: 35 / 50\n",
      "Attemp: 36 / 50\n",
      "Attemp: 37 / 50\n",
      "Attemp: 38 / 50\n",
      "Attemp: 39 / 50\n",
      "Attemp: 40 / 50\n",
      "Attemp: 41 / 50\n",
      "Attemp: 42 / 50\n",
      "Attemp: 43 / 50\n",
      "Attemp: 44 / 50\n",
      "Attemp: 45 / 50\n",
      "Attemp: 46 / 50\n",
      "Attemp: 47 / 50\n",
      "Attemp: 48 / 50\n",
      "Attemp: 49 / 50\n",
      "Attemp: 50 / 50\n",
      "The route of truck 1 is [0, 616, 645, 423, 689, 400, 947, 763, 810, 0]\n",
      "The route of truck 2 is [0, 276, 550, 255, 484, 582, 660, 662, 0]\n",
      "The route of truck 3 is [0, 247, 221, 182, 604, 283, 101, 606, 360, 977, 842, 0]\n",
      "The route of truck 4 is [0, 406, 184, 299, 901, 303, 0]\n",
      "The route of truck 5 is [0, 443, 631, 215, 888, 185, 121, 833, 0]\n",
      "The route of truck 6 is [0, 851, 972, 109, 331, 137, 322, 559, 140, 601, 0]\n",
      "The route of truck 7 is [0, 17, 943, 359, 51, 0]\n",
      "Completed!\n",
      "Run time: 0:00:15.778016\n"
     ]
    }
   ],
   "source": [
    "routes_LD = LD.Algo_LD(customerID)"
   ]
  },
  {
   "cell_type": "code",
   "execution_count": 4,
   "metadata": {},
   "outputs": [
    {
     "name": "stdout",
     "output_type": "stream",
     "text": [
      "Run time: 0:01:10.494382\n"
     ]
    }
   ],
   "source": [
    "route_CW = CW.Algo_C_W(customerID)"
   ]
  },
  {
   "cell_type": "code",
   "execution_count": 7,
   "metadata": {},
   "outputs": [],
   "source": [
    "cost1 = LD.mf.cost(route_CW)"
   ]
  },
  {
   "cell_type": "code",
   "execution_count": 8,
   "metadata": {},
   "outputs": [],
   "source": [
    "cost2 = LD.mf.cost(routes_LD)"
   ]
  },
  {
   "cell_type": "code",
   "execution_count": 9,
   "metadata": {},
   "outputs": [
    {
     "data": {
      "text/plain": [
       "(18007.614, 17401.832)"
      ]
     },
     "execution_count": 9,
     "metadata": {},
     "output_type": "execute_result"
    }
   ],
   "source": [
    "cost1,cost2"
   ]
  },
  {
   "cell_type": "code",
   "execution_count": null,
   "metadata": {},
   "outputs": [],
   "source": []
  },
  {
   "cell_type": "code",
   "execution_count": null,
   "metadata": {},
   "outputs": [],
   "source": []
  }
 ],
 "metadata": {
  "kernelspec": {
   "display_name": "Python 3",
   "language": "python",
   "name": "python3"
  },
  "language_info": {
   "codemirror_mode": {
    "name": "ipython",
    "version": 3
   },
   "file_extension": ".py",
   "mimetype": "text/x-python",
   "name": "python",
   "nbconvert_exporter": "python",
   "pygments_lexer": "ipython3",
   "version": "3.6.5"
  }
 },
 "nbformat": 4,
 "nbformat_minor": 2
}
